{
 "cells": [
  {
   "cell_type": "markdown",
   "metadata": {},
   "source": [
    "# Natural Disasters for CA Counties\n"
   ]
  },
  {
   "cell_type": "code",
   "execution_count": 1,
   "metadata": {},
   "outputs": [],
   "source": [
    "import pandas as pd\n",
    "import matplotlib.pyplot as plt"
   ]
  },
  {
   "cell_type": "markdown",
   "metadata": {},
   "source": [
    "# Data Exploration"
   ]
  },
  {
   "cell_type": "code",
   "execution_count": 2,
   "metadata": {},
   "outputs": [],
   "source": [
    "# summary of all counties\n",
    "df = pd.read_csv(\"../Natural_Disaster_Data/DisasterDeclarationsSummaries.csv\")"
   ]
  },
  {
   "cell_type": "code",
   "execution_count": 3,
   "metadata": {},
   "outputs": [],
   "source": [
    "#transform to datetime\n",
    "df['incidentBeginDate'] = pd.to_datetime(df['incidentBeginDate'])"
   ]
  },
  {
   "cell_type": "code",
   "execution_count": 4,
   "metadata": {},
   "outputs": [],
   "source": [
    "df['beginMonth'] = df['incidentBeginDate'].dt.month\n",
    "df['beginYear'] = df['incidentBeginDate'].dt.year\n",
    "df['beginDay'] = df['incidentBeginDate'].dt.day"
   ]
  },
  {
   "cell_type": "markdown",
   "metadata": {},
   "source": [
    "# Historic Data from 2010 to 2020\n"
   ]
  },
  {
   "cell_type": "code",
   "execution_count": 5,
   "metadata": {},
   "outputs": [],
   "source": [
    "disasters = df[(df['beginYear'] >= 2010) & (df['incidentType'] != 'Biological') & (df['state'] == 'CA')][['state','declaredCountyArea', 'beginYear', 'beginMonth', 'beginDay','incidentType' ]]\n",
    "disasters.dropna(inplace = True)"
   ]
  },
  {
   "cell_type": "code",
   "execution_count": 6,
   "metadata": {
    "scrolled": true
   },
   "outputs": [
    {
     "data": {
      "text/html": [
       "<div>\n",
       "<style scoped>\n",
       "    .dataframe tbody tr th:only-of-type {\n",
       "        vertical-align: middle;\n",
       "    }\n",
       "\n",
       "    .dataframe tbody tr th {\n",
       "        vertical-align: top;\n",
       "    }\n",
       "\n",
       "    .dataframe thead th {\n",
       "        text-align: right;\n",
       "    }\n",
       "</style>\n",
       "<table border=\"1\" class=\"dataframe\">\n",
       "  <thead>\n",
       "    <tr style=\"text-align: right;\">\n",
       "      <th></th>\n",
       "      <th>state</th>\n",
       "      <th>declaredCountyArea</th>\n",
       "      <th>beginYear</th>\n",
       "      <th>beginMonth</th>\n",
       "      <th>beginDay</th>\n",
       "      <th>incidentType</th>\n",
       "    </tr>\n",
       "  </thead>\n",
       "  <tbody>\n",
       "    <tr>\n",
       "      <th>20990</th>\n",
       "      <td>CA</td>\n",
       "      <td>Imperial (County)</td>\n",
       "      <td>2010</td>\n",
       "      <td>4</td>\n",
       "      <td>4</td>\n",
       "      <td>Earthquake</td>\n",
       "    </tr>\n",
       "    <tr>\n",
       "      <th>21430</th>\n",
       "      <td>CA</td>\n",
       "      <td>Del Norte (County)</td>\n",
       "      <td>2011</td>\n",
       "      <td>3</td>\n",
       "      <td>11</td>\n",
       "      <td>Tsunami</td>\n",
       "    </tr>\n",
       "  </tbody>\n",
       "</table>\n",
       "</div>"
      ],
      "text/plain": [
       "      state  declaredCountyArea  beginYear  beginMonth  beginDay incidentType\n",
       "20990    CA   Imperial (County)       2010           4         4   Earthquake\n",
       "21430    CA  Del Norte (County)       2011           3        11      Tsunami"
      ]
     },
     "execution_count": 6,
     "metadata": {},
     "output_type": "execute_result"
    }
   ],
   "source": [
    "disasters.head(2)"
   ]
  },
  {
   "cell_type": "code",
   "execution_count": 7,
   "metadata": {
    "scrolled": false
   },
   "outputs": [
    {
     "data": {
      "text/plain": [
       "state                 0\n",
       "declaredCountyArea    0\n",
       "beginYear             0\n",
       "beginMonth            0\n",
       "beginDay              0\n",
       "incidentType          0\n",
       "dtype: int64"
      ]
     },
     "execution_count": 7,
     "metadata": {},
     "output_type": "execute_result"
    }
   ],
   "source": [
    "#check null values\n",
    "disasters.isnull().sum()"
   ]
  },
  {
   "cell_type": "code",
   "execution_count": 8,
   "metadata": {},
   "outputs": [],
   "source": [
    "#drop incident types that don't require evacuation\n",
    "drop = ['Severe Storm(s)', 'Snow', 'Tornado', 'Severe Ice Storm', 'Coastal Storm', 'Mud/Landslide', 'Typhoon', 'Chemical', 'Other', 'Dam/Levee Break', 'Toxic Substances', 'Freezing']\n",
    "\n",
    "for columns in drop:\n",
    "    disasters = disasters.loc[disasters['incidentType'] != columns]\n",
    "    "
   ]
  },
  {
   "cell_type": "code",
   "execution_count": 9,
   "metadata": {},
   "outputs": [
    {
     "data": {
      "text/plain": [
       "Fire          153\n",
       "Flood          77\n",
       "Earthquake      5\n",
       "Tsunami         3\n",
       "Name: incidentType, dtype: int64"
      ]
     },
     "execution_count": 9,
     "metadata": {},
     "output_type": "execute_result"
    }
   ],
   "source": [
    "#natural disasters that require evacuation by order\n",
    "disasters['incidentType'].value_counts()"
   ]
  },
  {
   "cell_type": "markdown",
   "metadata": {},
   "source": [
    "**Yearly**"
   ]
  },
  {
   "cell_type": "code",
   "execution_count": 10,
   "metadata": {
    "scrolled": true
   },
   "outputs": [
    {
     "data": {
      "text/html": [
       "<div>\n",
       "<style scoped>\n",
       "    .dataframe tbody tr th:only-of-type {\n",
       "        vertical-align: middle;\n",
       "    }\n",
       "\n",
       "    .dataframe tbody tr th {\n",
       "        vertical-align: top;\n",
       "    }\n",
       "\n",
       "    .dataframe thead th {\n",
       "        text-align: right;\n",
       "    }\n",
       "</style>\n",
       "<table border=\"1\" class=\"dataframe\">\n",
       "  <thead>\n",
       "    <tr style=\"text-align: right;\">\n",
       "      <th></th>\n",
       "      <th>declaredCountyArea</th>\n",
       "      <th>incidentType</th>\n",
       "      <th>ten year count</th>\n",
       "      <th>averageperyear</th>\n",
       "    </tr>\n",
       "  </thead>\n",
       "  <tbody>\n",
       "    <tr>\n",
       "      <th>0</th>\n",
       "      <td>Alameda (County)</td>\n",
       "      <td>Flood</td>\n",
       "      <td>2</td>\n",
       "      <td>0.2</td>\n",
       "    </tr>\n",
       "    <tr>\n",
       "      <th>1</th>\n",
       "      <td>Alpine (County)</td>\n",
       "      <td>Flood</td>\n",
       "      <td>1</td>\n",
       "      <td>0.1</td>\n",
       "    </tr>\n",
       "    <tr>\n",
       "      <th>2</th>\n",
       "      <td>Amador (County)</td>\n",
       "      <td>Fire</td>\n",
       "      <td>1</td>\n",
       "      <td>0.1</td>\n",
       "    </tr>\n",
       "    <tr>\n",
       "      <th>3</th>\n",
       "      <td>Amador (County)</td>\n",
       "      <td>Flood</td>\n",
       "      <td>1</td>\n",
       "      <td>0.1</td>\n",
       "    </tr>\n",
       "    <tr>\n",
       "      <th>4</th>\n",
       "      <td>Butte (County)</td>\n",
       "      <td>Fire</td>\n",
       "      <td>7</td>\n",
       "      <td>0.7</td>\n",
       "    </tr>\n",
       "  </tbody>\n",
       "</table>\n",
       "</div>"
      ],
      "text/plain": [
       "  declaredCountyArea incidentType  ten year count  averageperyear\n",
       "0   Alameda (County)        Flood               2             0.2\n",
       "1    Alpine (County)        Flood               1             0.1\n",
       "2    Amador (County)         Fire               1             0.1\n",
       "3    Amador (County)        Flood               1             0.1\n",
       "4     Butte (County)         Fire               7             0.7"
      ]
     },
     "execution_count": 10,
     "metadata": {},
     "output_type": "execute_result"
    }
   ],
   "source": [
    "#incident per year in 10 year range 2010-2020\n",
    "disaster = pd.DataFrame({'ten year count' : disasters.groupby( ['declaredCountyArea', \"incidentType\"] ).size()}).reset_index()\n",
    "disaster['averageperyear'] = disaster['ten year count'] / 10\n",
    "disaster.sort_values(['declaredCountyArea', 'ten year count'], ascending = [ True, False], inplace =True)\n",
    "disaster.head()"
   ]
  },
  {
   "cell_type": "code",
   "execution_count": 11,
   "metadata": {
    "scrolled": true
   },
   "outputs": [
    {
     "data": {
      "text/plain": [
       "declaredCountyArea\n",
       "Los Angeles (County)    2.0\n",
       "Kern (County)           1.3\n",
       "Riverside (County)      1.2\n",
       "Ventura (County)        1.1\n",
       "Lake (County)           1.1\n",
       "                       ... \n",
       "Santa Clara (County)    0.1\n",
       "Merced (County)         0.1\n",
       "San Joaquin (County)    0.1\n",
       "San Benito (County)     0.1\n",
       "Karuk Reservation       0.1\n",
       "Name: averageperyear, Length: 62, dtype: float64"
      ]
     },
     "execution_count": 11,
     "metadata": {},
     "output_type": "execute_result"
    }
   ],
   "source": [
    "#frequency of natural disasters average per year from 2010 to 2020\n",
    "disaster.groupby(['declaredCountyArea'])['averageperyear'].sum().sort_values(ascending=False)\n"
   ]
  },
  {
   "cell_type": "code",
   "execution_count": 12,
   "metadata": {
    "scrolled": true
   },
   "outputs": [
    {
     "data": {
      "image/png": "[encoded data removed]",
      "text/plain": [
       "<Figure size 576x864 with 1 Axes>"
      ]
     },
     "metadata": {
      "needs_background": "light"
     },
     "output_type": "display_data"
    }
   ],
   "source": [
    "#visualization of natural disaster average per year by county\n",
    "plt.figure(figsize=(8,12))\n",
    "disaster.groupby(['declaredCountyArea'])['averageperyear'].sum().sort_values().plot.barh(color=(0.1, 0.1, 0.1, 0.1),  edgecolor='black');\n",
    "\n",
    "plt.title(' Natural disaster Average per Year by CA Counties')\n",
    "plt.xlabel('Natural Disaster Average per Year')\n",
    "plt.ylabel('County');"
   ]
  },
  {
   "cell_type": "markdown",
   "metadata": {},
   "source": [
    "**Monthly**"
   ]
  },
  {
   "cell_type": "code",
   "execution_count": 13,
   "metadata": {},
   "outputs": [
    {
     "data": {
      "text/html": [
       "<div>\n",
       "<style scoped>\n",
       "    .dataframe tbody tr th:only-of-type {\n",
       "        vertical-align: middle;\n",
       "    }\n",
       "\n",
       "    .dataframe tbody tr th {\n",
       "        vertical-align: top;\n",
       "    }\n",
       "\n",
       "    .dataframe thead th {\n",
       "        text-align: right;\n",
       "    }\n",
       "</style>\n",
       "<table border=\"1\" class=\"dataframe\">\n",
       "  <thead>\n",
       "    <tr style=\"text-align: right;\">\n",
       "      <th></th>\n",
       "      <th>state</th>\n",
       "      <th>beginMonth</th>\n",
       "      <th>incidentType</th>\n",
       "      <th>countintenyears</th>\n",
       "      <th>yearlyratebyspecificmonth</th>\n",
       "    </tr>\n",
       "  </thead>\n",
       "  <tbody>\n",
       "    <tr>\n",
       "      <th>1</th>\n",
       "      <td>CA</td>\n",
       "      <td>1</td>\n",
       "      <td>Flood</td>\n",
       "      <td>22</td>\n",
       "      <td>2.2</td>\n",
       "    </tr>\n",
       "    <tr>\n",
       "      <th>0</th>\n",
       "      <td>CA</td>\n",
       "      <td>1</td>\n",
       "      <td>Fire</td>\n",
       "      <td>1</td>\n",
       "      <td>0.1</td>\n",
       "    </tr>\n",
       "    <tr>\n",
       "      <th>2</th>\n",
       "      <td>CA</td>\n",
       "      <td>2</td>\n",
       "      <td>Flood</td>\n",
       "      <td>44</td>\n",
       "      <td>4.4</td>\n",
       "    </tr>\n",
       "    <tr>\n",
       "      <th>3</th>\n",
       "      <td>CA</td>\n",
       "      <td>3</td>\n",
       "      <td>Tsunami</td>\n",
       "      <td>3</td>\n",
       "      <td>0.3</td>\n",
       "    </tr>\n",
       "    <tr>\n",
       "      <th>4</th>\n",
       "      <td>CA</td>\n",
       "      <td>4</td>\n",
       "      <td>Earthquake</td>\n",
       "      <td>1</td>\n",
       "      <td>0.1</td>\n",
       "    </tr>\n",
       "  </tbody>\n",
       "</table>\n",
       "</div>"
      ],
      "text/plain": [
       "  state  beginMonth incidentType  countintenyears  yearlyratebyspecificmonth\n",
       "1    CA           1        Flood               22                        2.2\n",
       "0    CA           1         Fire                1                        0.1\n",
       "2    CA           2        Flood               44                        4.4\n",
       "3    CA           3      Tsunami                3                        0.3\n",
       "4    CA           4   Earthquake                1                        0.1"
      ]
     },
     "execution_count": 13,
     "metadata": {},
     "output_type": "execute_result"
    }
   ],
   "source": [
    "#incident per specific month in range of 10 years\n",
    "disaster1 = pd.DataFrame({'countintenyears' : disasters.groupby( ['state', 'beginMonth', \"incidentType\"] ).size()}).reset_index()\n",
    "disaster1.sort_values(['state', 'beginMonth', 'countintenyears'], ascending = [ True, True, False], inplace =True)\n",
    "disaster1['yearlyratebyspecificmonth'] = disaster1['countintenyears'] / 10\n",
    "disaster1.head()"
   ]
  },
  {
   "cell_type": "code",
   "execution_count": 14,
   "metadata": {
    "scrolled": true
   },
   "outputs": [
    {
     "data": {
      "text/plain": [
       "beginMonth\n",
       "2     4.4\n",
       "10    3.4\n",
       "8     3.2\n",
       "7     2.8\n",
       "12    2.6\n",
       "9     2.4\n",
       "1     2.3\n",
       "11    1.2\n",
       "6     0.6\n",
       "5     0.5\n",
       "3     0.3\n",
       "4     0.1\n",
       "Name: yearlyratebyspecificmonth, dtype: float64"
      ]
     },
     "execution_count": 14,
     "metadata": {},
     "output_type": "execute_result"
    }
   ],
   "source": [
    "#Months in which disasters occur the most\n",
    "disaster1.groupby(['beginMonth'])['yearlyratebyspecificmonth'].sum().sort_values(ascending=False)\n"
   ]
  },
  {
   "cell_type": "code",
   "execution_count": 15,
   "metadata": {},
   "outputs": [
    {
     "data": {
      "image/png": "[encoded data removed]",
      "text/plain": [
       "<Figure size 576x864 with 1 Axes>"
      ]
     },
     "metadata": {
      "needs_background": "light"
     },
     "output_type": "display_data"
    }
   ],
   "source": [
    "#visualization of the average of natural disasters in specific months\n",
    "plt.figure(figsize=(8,12))\n",
    "disaster1.groupby(['beginMonth'])['yearlyratebyspecificmonth'].sum().sort_values(ascending=True).plot.barh(color=(0.1, 0.1, 0.1, 0.1),  edgecolor='black');\n",
    "\n",
    "plt.title('Natural disaster average per Month by CA counties ')\n",
    "plt.xlabel('Natural Disaster Average per Month')\n",
    "plt.ylabel('Month');"
   ]
  },
  {
   "cell_type": "markdown",
   "metadata": {},
   "source": [
    "# May - August Analysis"
   ]
  },
  {
   "cell_type": "code",
   "execution_count": 16,
   "metadata": {},
   "outputs": [
    {
     "data": {
      "text/html": [
       "<div>\n",
       "<style scoped>\n",
       "    .dataframe tbody tr th:only-of-type {\n",
       "        vertical-align: middle;\n",
       "    }\n",
       "\n",
       "    .dataframe tbody tr th {\n",
       "        vertical-align: top;\n",
       "    }\n",
       "\n",
       "    .dataframe thead th {\n",
       "        text-align: right;\n",
       "    }\n",
       "</style>\n",
       "<table border=\"1\" class=\"dataframe\">\n",
       "  <thead>\n",
       "    <tr style=\"text-align: right;\">\n",
       "      <th></th>\n",
       "      <th>incidentType</th>\n",
       "      <th>declaredCountyArea</th>\n",
       "      <th>beginMonth</th>\n",
       "      <th>total</th>\n",
       "      <th>yearlyrate</th>\n",
       "    </tr>\n",
       "  </thead>\n",
       "  <tbody>\n",
       "    <tr>\n",
       "      <th>37</th>\n",
       "      <td>Fire</td>\n",
       "      <td>Shasta (County)</td>\n",
       "      <td>8</td>\n",
       "      <td>4</td>\n",
       "      <td>0.4</td>\n",
       "    </tr>\n",
       "    <tr>\n",
       "      <th>42</th>\n",
       "      <td>Fire</td>\n",
       "      <td>Trinity (County)</td>\n",
       "      <td>8</td>\n",
       "      <td>3</td>\n",
       "      <td>0.3</td>\n",
       "    </tr>\n",
       "    <tr>\n",
       "      <th>17</th>\n",
       "      <td>Fire</td>\n",
       "      <td>Los Angeles (County)</td>\n",
       "      <td>7</td>\n",
       "      <td>3</td>\n",
       "      <td>0.3</td>\n",
       "    </tr>\n",
       "    <tr>\n",
       "      <th>12</th>\n",
       "      <td>Fire</td>\n",
       "      <td>Lake (County)</td>\n",
       "      <td>7</td>\n",
       "      <td>3</td>\n",
       "      <td>0.3</td>\n",
       "    </tr>\n",
       "    <tr>\n",
       "      <th>10</th>\n",
       "      <td>Fire</td>\n",
       "      <td>Kern (County)</td>\n",
       "      <td>8</td>\n",
       "      <td>3</td>\n",
       "      <td>0.3</td>\n",
       "    </tr>\n",
       "    <tr>\n",
       "      <th>27</th>\n",
       "      <td>Fire</td>\n",
       "      <td>Riverside (County)</td>\n",
       "      <td>8</td>\n",
       "      <td>3</td>\n",
       "      <td>0.3</td>\n",
       "    </tr>\n",
       "    <tr>\n",
       "      <th>30</th>\n",
       "      <td>Fire</td>\n",
       "      <td>San Diego (County)</td>\n",
       "      <td>5</td>\n",
       "      <td>2</td>\n",
       "      <td>0.2</td>\n",
       "    </tr>\n",
       "    <tr>\n",
       "      <th>9</th>\n",
       "      <td>Fire</td>\n",
       "      <td>Kern (County)</td>\n",
       "      <td>7</td>\n",
       "      <td>2</td>\n",
       "      <td>0.2</td>\n",
       "    </tr>\n",
       "    <tr>\n",
       "      <th>43</th>\n",
       "      <td>Fire</td>\n",
       "      <td>Tulare (County)</td>\n",
       "      <td>8</td>\n",
       "      <td>2</td>\n",
       "      <td>0.2</td>\n",
       "    </tr>\n",
       "    <tr>\n",
       "      <th>44</th>\n",
       "      <td>Fire</td>\n",
       "      <td>Tuolumne (County)</td>\n",
       "      <td>8</td>\n",
       "      <td>2</td>\n",
       "      <td>0.2</td>\n",
       "    </tr>\n",
       "    <tr>\n",
       "      <th>13</th>\n",
       "      <td>Fire</td>\n",
       "      <td>Lake (County)</td>\n",
       "      <td>8</td>\n",
       "      <td>2</td>\n",
       "      <td>0.2</td>\n",
       "    </tr>\n",
       "    <tr>\n",
       "      <th>29</th>\n",
       "      <td>Fire</td>\n",
       "      <td>San Bernardino (County)</td>\n",
       "      <td>8</td>\n",
       "      <td>2</td>\n",
       "      <td>0.2</td>\n",
       "    </tr>\n",
       "    <tr>\n",
       "      <th>36</th>\n",
       "      <td>Fire</td>\n",
       "      <td>Shasta (County)</td>\n",
       "      <td>7</td>\n",
       "      <td>2</td>\n",
       "      <td>0.2</td>\n",
       "    </tr>\n",
       "    <tr>\n",
       "      <th>16</th>\n",
       "      <td>Fire</td>\n",
       "      <td>Los Angeles (County)</td>\n",
       "      <td>6</td>\n",
       "      <td>2</td>\n",
       "      <td>0.2</td>\n",
       "    </tr>\n",
       "    <tr>\n",
       "      <th>24</th>\n",
       "      <td>Fire</td>\n",
       "      <td>Napa (County)</td>\n",
       "      <td>7</td>\n",
       "      <td>2</td>\n",
       "      <td>0.2</td>\n",
       "    </tr>\n",
       "    <tr>\n",
       "      <th>18</th>\n",
       "      <td>Fire</td>\n",
       "      <td>Madera (County)</td>\n",
       "      <td>8</td>\n",
       "      <td>2</td>\n",
       "      <td>0.2</td>\n",
       "    </tr>\n",
       "    <tr>\n",
       "      <th>20</th>\n",
       "      <td>Fire</td>\n",
       "      <td>Mariposa (County)</td>\n",
       "      <td>8</td>\n",
       "      <td>2</td>\n",
       "      <td>0.2</td>\n",
       "    </tr>\n",
       "    <tr>\n",
       "      <th>41</th>\n",
       "      <td>Fire</td>\n",
       "      <td>Tehama (County)</td>\n",
       "      <td>8</td>\n",
       "      <td>1</td>\n",
       "      <td>0.1</td>\n",
       "    </tr>\n",
       "    <tr>\n",
       "      <th>33</th>\n",
       "      <td>Fire</td>\n",
       "      <td>San Luis Obispo (County)</td>\n",
       "      <td>8</td>\n",
       "      <td>1</td>\n",
       "      <td>0.1</td>\n",
       "    </tr>\n",
       "    <tr>\n",
       "      <th>31</th>\n",
       "      <td>Fire</td>\n",
       "      <td>San Diego (County)</td>\n",
       "      <td>6</td>\n",
       "      <td>1</td>\n",
       "      <td>0.1</td>\n",
       "    </tr>\n",
       "    <tr>\n",
       "      <th>32</th>\n",
       "      <td>Fire</td>\n",
       "      <td>San Diego (County)</td>\n",
       "      <td>7</td>\n",
       "      <td>1</td>\n",
       "      <td>0.1</td>\n",
       "    </tr>\n",
       "    <tr>\n",
       "      <th>45</th>\n",
       "      <td>Fire</td>\n",
       "      <td>Ventura (County)</td>\n",
       "      <td>5</td>\n",
       "      <td>1</td>\n",
       "      <td>0.1</td>\n",
       "    </tr>\n",
       "    <tr>\n",
       "      <th>34</th>\n",
       "      <td>Fire</td>\n",
       "      <td>Santa Barbara (County)</td>\n",
       "      <td>7</td>\n",
       "      <td>1</td>\n",
       "      <td>0.1</td>\n",
       "    </tr>\n",
       "    <tr>\n",
       "      <th>35</th>\n",
       "      <td>Fire</td>\n",
       "      <td>Shasta (County)</td>\n",
       "      <td>6</td>\n",
       "      <td>1</td>\n",
       "      <td>0.1</td>\n",
       "    </tr>\n",
       "    <tr>\n",
       "      <th>40</th>\n",
       "      <td>Fire</td>\n",
       "      <td>Solano (County)</td>\n",
       "      <td>7</td>\n",
       "      <td>1</td>\n",
       "      <td>0.1</td>\n",
       "    </tr>\n",
       "    <tr>\n",
       "      <th>38</th>\n",
       "      <td>Fire</td>\n",
       "      <td>Siskiyou (County)</td>\n",
       "      <td>7</td>\n",
       "      <td>1</td>\n",
       "      <td>0.1</td>\n",
       "    </tr>\n",
       "    <tr>\n",
       "      <th>39</th>\n",
       "      <td>Fire</td>\n",
       "      <td>Siskiyou (County)</td>\n",
       "      <td>8</td>\n",
       "      <td>1</td>\n",
       "      <td>0.1</td>\n",
       "    </tr>\n",
       "    <tr>\n",
       "      <th>0</th>\n",
       "      <td>Earthquake</td>\n",
       "      <td>Kern (County)</td>\n",
       "      <td>7</td>\n",
       "      <td>1</td>\n",
       "      <td>0.1</td>\n",
       "    </tr>\n",
       "    <tr>\n",
       "      <th>23</th>\n",
       "      <td>Fire</td>\n",
       "      <td>Monterey (County)</td>\n",
       "      <td>7</td>\n",
       "      <td>1</td>\n",
       "      <td>0.1</td>\n",
       "    </tr>\n",
       "    <tr>\n",
       "      <th>28</th>\n",
       "      <td>Fire</td>\n",
       "      <td>San Bernardino (County)</td>\n",
       "      <td>7</td>\n",
       "      <td>1</td>\n",
       "      <td>0.1</td>\n",
       "    </tr>\n",
       "    <tr>\n",
       "      <th>26</th>\n",
       "      <td>Fire</td>\n",
       "      <td>Riverside (County)</td>\n",
       "      <td>7</td>\n",
       "      <td>1</td>\n",
       "      <td>0.1</td>\n",
       "    </tr>\n",
       "    <tr>\n",
       "      <th>2</th>\n",
       "      <td>Earthquake</td>\n",
       "      <td>San Bernardino (County)</td>\n",
       "      <td>7</td>\n",
       "      <td>1</td>\n",
       "      <td>0.1</td>\n",
       "    </tr>\n",
       "    <tr>\n",
       "      <th>3</th>\n",
       "      <td>Earthquake</td>\n",
       "      <td>Solano (County)</td>\n",
       "      <td>8</td>\n",
       "      <td>1</td>\n",
       "      <td>0.1</td>\n",
       "    </tr>\n",
       "    <tr>\n",
       "      <th>4</th>\n",
       "      <td>Fire</td>\n",
       "      <td>Butte (County)</td>\n",
       "      <td>7</td>\n",
       "      <td>1</td>\n",
       "      <td>0.1</td>\n",
       "    </tr>\n",
       "    <tr>\n",
       "      <th>5</th>\n",
       "      <td>Fire</td>\n",
       "      <td>Fresno (County)</td>\n",
       "      <td>7</td>\n",
       "      <td>1</td>\n",
       "      <td>0.1</td>\n",
       "    </tr>\n",
       "    <tr>\n",
       "      <th>6</th>\n",
       "      <td>Fire</td>\n",
       "      <td>Hopland Rancheria (Indian Reservation)</td>\n",
       "      <td>7</td>\n",
       "      <td>1</td>\n",
       "      <td>0.1</td>\n",
       "    </tr>\n",
       "    <tr>\n",
       "      <th>7</th>\n",
       "      <td>Fire</td>\n",
       "      <td>Karuk Reservation</td>\n",
       "      <td>7</td>\n",
       "      <td>1</td>\n",
       "      <td>0.1</td>\n",
       "    </tr>\n",
       "    <tr>\n",
       "      <th>8</th>\n",
       "      <td>Fire</td>\n",
       "      <td>Kern (County)</td>\n",
       "      <td>6</td>\n",
       "      <td>1</td>\n",
       "      <td>0.1</td>\n",
       "    </tr>\n",
       "    <tr>\n",
       "      <th>11</th>\n",
       "      <td>Fire</td>\n",
       "      <td>Lake (County)</td>\n",
       "      <td>6</td>\n",
       "      <td>1</td>\n",
       "      <td>0.1</td>\n",
       "    </tr>\n",
       "    <tr>\n",
       "      <th>14</th>\n",
       "      <td>Fire</td>\n",
       "      <td>Lassen (County)</td>\n",
       "      <td>8</td>\n",
       "      <td>1</td>\n",
       "      <td>0.1</td>\n",
       "    </tr>\n",
       "    <tr>\n",
       "      <th>15</th>\n",
       "      <td>Fire</td>\n",
       "      <td>Los Angeles (County)</td>\n",
       "      <td>5</td>\n",
       "      <td>1</td>\n",
       "      <td>0.1</td>\n",
       "    </tr>\n",
       "    <tr>\n",
       "      <th>19</th>\n",
       "      <td>Fire</td>\n",
       "      <td>Mariposa (County)</td>\n",
       "      <td>7</td>\n",
       "      <td>1</td>\n",
       "      <td>0.1</td>\n",
       "    </tr>\n",
       "    <tr>\n",
       "      <th>21</th>\n",
       "      <td>Fire</td>\n",
       "      <td>Mendocino (County)</td>\n",
       "      <td>7</td>\n",
       "      <td>1</td>\n",
       "      <td>0.1</td>\n",
       "    </tr>\n",
       "    <tr>\n",
       "      <th>22</th>\n",
       "      <td>Fire</td>\n",
       "      <td>Modoc (County)</td>\n",
       "      <td>8</td>\n",
       "      <td>1</td>\n",
       "      <td>0.1</td>\n",
       "    </tr>\n",
       "    <tr>\n",
       "      <th>1</th>\n",
       "      <td>Earthquake</td>\n",
       "      <td>Napa (County)</td>\n",
       "      <td>8</td>\n",
       "      <td>1</td>\n",
       "      <td>0.1</td>\n",
       "    </tr>\n",
       "    <tr>\n",
       "      <th>25</th>\n",
       "      <td>Fire</td>\n",
       "      <td>Riverside (County)</td>\n",
       "      <td>5</td>\n",
       "      <td>1</td>\n",
       "      <td>0.1</td>\n",
       "    </tr>\n",
       "    <tr>\n",
       "      <th>46</th>\n",
       "      <td>Fire</td>\n",
       "      <td>Yolo (County)</td>\n",
       "      <td>7</td>\n",
       "      <td>1</td>\n",
       "      <td>0.1</td>\n",
       "    </tr>\n",
       "  </tbody>\n",
       "</table>\n",
       "</div>"
      ],
      "text/plain": [
       "   incidentType                      declaredCountyArea  beginMonth  total  \\\n",
       "37         Fire                         Shasta (County)           8      4   \n",
       "42         Fire                        Trinity (County)           8      3   \n",
       "17         Fire                    Los Angeles (County)           7      3   \n",
       "12         Fire                           Lake (County)           7      3   \n",
       "10         Fire                           Kern (County)           8      3   \n",
       "27         Fire                      Riverside (County)           8      3   \n",
       "30         Fire                      San Diego (County)           5      2   \n",
       "9          Fire                           Kern (County)           7      2   \n",
       "43         Fire                         Tulare (County)           8      2   \n",
       "44         Fire                       Tuolumne (County)           8      2   \n",
       "13         Fire                           Lake (County)           8      2   \n",
       "29         Fire                 San Bernardino (County)           8      2   \n",
       "36         Fire                         Shasta (County)           7      2   \n",
       "16         Fire                    Los Angeles (County)           6      2   \n",
       "24         Fire                           Napa (County)           7      2   \n",
       "18         Fire                         Madera (County)           8      2   \n",
       "20         Fire                       Mariposa (County)           8      2   \n",
       "41         Fire                         Tehama (County)           8      1   \n",
       "33         Fire                San Luis Obispo (County)           8      1   \n",
       "31         Fire                      San Diego (County)           6      1   \n",
       "32         Fire                      San Diego (County)           7      1   \n",
       "45         Fire                        Ventura (County)           5      1   \n",
       "34         Fire                  Santa Barbara (County)           7      1   \n",
       "35         Fire                         Shasta (County)           6      1   \n",
       "40         Fire                         Solano (County)           7      1   \n",
       "38         Fire                       Siskiyou (County)           7      1   \n",
       "39         Fire                       Siskiyou (County)           8      1   \n",
       "0    Earthquake                           Kern (County)           7      1   \n",
       "23         Fire                       Monterey (County)           7      1   \n",
       "28         Fire                 San Bernardino (County)           7      1   \n",
       "26         Fire                      Riverside (County)           7      1   \n",
       "2    Earthquake                 San Bernardino (County)           7      1   \n",
       "3    Earthquake                         Solano (County)           8      1   \n",
       "4          Fire                          Butte (County)           7      1   \n",
       "5          Fire                         Fresno (County)           7      1   \n",
       "6          Fire  Hopland Rancheria (Indian Reservation)           7      1   \n",
       "7          Fire                       Karuk Reservation           7      1   \n",
       "8          Fire                           Kern (County)           6      1   \n",
       "11         Fire                           Lake (County)           6      1   \n",
       "14         Fire                         Lassen (County)           8      1   \n",
       "15         Fire                    Los Angeles (County)           5      1   \n",
       "19         Fire                       Mariposa (County)           7      1   \n",
       "21         Fire                      Mendocino (County)           7      1   \n",
       "22         Fire                          Modoc (County)           8      1   \n",
       "1    Earthquake                           Napa (County)           8      1   \n",
       "25         Fire                      Riverside (County)           5      1   \n",
       "46         Fire                           Yolo (County)           7      1   \n",
       "\n",
       "    yearlyrate  \n",
       "37         0.4  \n",
       "42         0.3  \n",
       "17         0.3  \n",
       "12         0.3  \n",
       "10         0.3  \n",
       "27         0.3  \n",
       "30         0.2  \n",
       "9          0.2  \n",
       "43         0.2  \n",
       "44         0.2  \n",
       "13         0.2  \n",
       "29         0.2  \n",
       "36         0.2  \n",
       "16         0.2  \n",
       "24         0.2  \n",
       "18         0.2  \n",
       "20         0.2  \n",
       "41         0.1  \n",
       "33         0.1  \n",
       "31         0.1  \n",
       "32         0.1  \n",
       "45         0.1  \n",
       "34         0.1  \n",
       "35         0.1  \n",
       "40         0.1  \n",
       "38         0.1  \n",
       "39         0.1  \n",
       "0          0.1  \n",
       "23         0.1  \n",
       "28         0.1  \n",
       "26         0.1  \n",
       "2          0.1  \n",
       "3          0.1  \n",
       "4          0.1  \n",
       "5          0.1  \n",
       "6          0.1  \n",
       "7          0.1  \n",
       "8          0.1  \n",
       "11         0.1  \n",
       "14         0.1  \n",
       "15         0.1  \n",
       "19         0.1  \n",
       "21         0.1  \n",
       "22         0.1  \n",
       "1          0.1  \n",
       "25         0.1  \n",
       "46         0.1  "
      ]
     },
     "execution_count": 16,
     "metadata": {},
     "output_type": "execute_result"
    }
   ],
   "source": [
    "#incident average per month: May - August per incident and state in a range of 10 years\n",
    "#yearlyrate:frequency of natural disasters per month(yearly)\n",
    "final = disasters[disasters['beginMonth'].isin([5,6,7,8])].groupby(['incidentType', 'declaredCountyArea', 'beginMonth']).size().reset_index().sort_values(by = 0, ascending = False)\n",
    "final.rename(columns = {0: 'total'}, inplace = True )\n",
    "final['yearlyrate'] = final['total'] / 10\n",
    "final.head(50)\n"
   ]
  },
  {
   "cell_type": "code",
   "execution_count": 17,
   "metadata": {},
   "outputs": [
    {
     "data": {
      "text/plain": [
       "declaredCountyArea\n",
       "Shasta (County)                           0.7\n",
       "Kern (County)                             0.7\n",
       "Los Angeles (County)                      0.6\n",
       "Lake (County)                             0.6\n",
       "Riverside (County)                        0.5\n",
       "San Bernardino (County)                   0.4\n",
       "San Diego (County)                        0.4\n",
       "Napa (County)                             0.3\n",
       "Mariposa (County)                         0.3\n",
       "Trinity (County)                          0.3\n",
       "Madera (County)                           0.2\n",
       "Siskiyou (County)                         0.2\n",
       "Solano (County)                           0.2\n",
       "Tulare (County)                           0.2\n",
       "Tuolumne (County)                         0.2\n",
       "Karuk Reservation                         0.1\n",
       "Fresno (County)                           0.1\n",
       "Lassen (County)                           0.1\n",
       "Hopland Rancheria (Indian Reservation)    0.1\n",
       "Yolo (County)                             0.1\n",
       "Mendocino (County)                        0.1\n",
       "Modoc (County)                            0.1\n",
       "Monterey (County)                         0.1\n",
       "Ventura (County)                          0.1\n",
       "San Luis Obispo (County)                  0.1\n",
       "Santa Barbara (County)                    0.1\n",
       "Tehama (County)                           0.1\n",
       "Butte (County)                            0.1\n",
       "Name: yearlyrate, dtype: float64"
      ]
     },
     "execution_count": 17,
     "metadata": {},
     "output_type": "execute_result"
    }
   ],
   "source": [
    "#Highest incident types from May- August per county\n",
    "final.groupby(['declaredCountyArea'])['yearlyrate'].sum().sort_values(ascending=False)"
   ]
  },
  {
   "cell_type": "code",
   "execution_count": 18,
   "metadata": {},
   "outputs": [
    {
     "data": {
      "image/png": "[encoded data removed]",
      "text/plain": [
       "<Figure size 576x864 with 1 Axes>"
      ]
     },
     "metadata": {
      "needs_background": "light"
     },
     "output_type": "display_data"
    }
   ],
   "source": [
    "plt.figure(figsize=(8,12))\n",
    "final.groupby(['declaredCountyArea'])['yearlyrate'].sum().sort_values(ascending=True).plot.barh(color=(0.1, 0.1, 0.1, 0.1),  edgecolor='black');\n",
    "\n",
    "plt.title('Natural disasters in May - August per Year by CA County')\n",
    "plt.xlabel('Natural Disaster May - August per Year')\n",
    "plt.ylabel('County');\n",
    " "
   ]
  },
  {
   "cell_type": "code",
   "execution_count": 19,
   "metadata": {},
   "outputs": [
    {
     "data": {
      "text/plain": [
       "incidentType\n",
       "Fire          6.7\n",
       "Earthquake    0.4\n",
       "Name: yearlyrate, dtype: float64"
      ]
     },
     "execution_count": 19,
     "metadata": {},
     "output_type": "execute_result"
    }
   ],
   "source": [
    "#Incident types frequency in California\n",
    "final.groupby(['incidentType'])['yearlyrate'].sum().sort_values(ascending=False)"
   ]
  },
  {
   "cell_type": "code",
   "execution_count": 20,
   "metadata": {
    "scrolled": true
   },
   "outputs": [
    {
     "data": {
      "image/png": "[encoded data removed]",
      "text/plain": [
       "<Figure size 576x864 with 1 Axes>"
      ]
     },
     "metadata": {
      "needs_background": "light"
     },
     "output_type": "display_data"
    }
   ],
   "source": [
    "plt.figure(figsize=(8,12))\n",
    "final.groupby(['incidentType'])['yearlyrate'].sum().sort_values(ascending=False).plot.bar(color=(0.1, 0.1, 0.1, 0.1),  edgecolor='black');\n",
    "\n",
    "plt.title('Natural disasters in May - August per Year by Incident Type CA')\n",
    "plt.xlabel('Natural Disaster May -August per Year')\n",
    "plt.ylabel('Incident Type');\n",
    " \n"
   ]
  },
  {
   "cell_type": "code",
   "execution_count": 21,
   "metadata": {},
   "outputs": [],
   "source": [
    "# Export dataframe to csv file\n",
    "\n",
    "final.to_csv('./Natural_Disaster_proj_CA_511.csv', index=False)"
   ]
  }
 ],
 "metadata": {
  "kernelspec": {
   "display_name": "Python 3",
   "language": "python",
   "name": "python3"
  },
  "language_info": {
   "codemirror_mode": {
    "name": "ipython",
    "version": 3
   },
   "file_extension": ".py",
   "mimetype": "text/x-python",
   "name": "python",
   "nbconvert_exporter": "python",
   "pygments_lexer": "ipython3",
   "version": "3.7.6"
  }
 },
 "nbformat": 4,
 "nbformat_minor": 4
}
