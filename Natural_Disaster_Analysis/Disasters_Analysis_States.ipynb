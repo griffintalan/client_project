{
 "cells": [
  {
   "cell_type": "markdown",
   "metadata": {},
   "source": [
    "# Natural Disasters for US States"
   ]
  },
  {
   "cell_type": "code",
   "execution_count": 1,
   "metadata": {},
   "outputs": [],
   "source": [
    "import numpy as np\n",
    "import pandas as pd\n",
    "import matplotlib.pyplot as plt"
   ]
  },
  {
   "cell_type": "markdown",
   "metadata": {},
   "source": [
    "# Data Exploration"
   ]
  },
  {
   "cell_type": "code",
   "execution_count": 2,
   "metadata": {
    "scrolled": false
   },
   "outputs": [
    {
     "data": {
      "text/html": [
       "<div>\n",
       "<style scoped>\n",
       "    .dataframe tbody tr th:only-of-type {\n",
       "        vertical-align: middle;\n",
       "    }\n",
       "\n",
       "    .dataframe tbody tr th {\n",
       "        vertical-align: top;\n",
       "    }\n",
       "\n",
       "    .dataframe thead th {\n",
       "        text-align: right;\n",
       "    }\n",
       "</style>\n",
       "<table border=\"1\" class=\"dataframe\">\n",
       "  <thead>\n",
       "    <tr style=\"text-align: right;\">\n",
       "      <th></th>\n",
       "      <th>disasterNumber</th>\n",
       "      <th>ihProgramDeclared</th>\n",
       "      <th>iaProgramDeclared</th>\n",
       "      <th>paProgramDeclared</th>\n",
       "      <th>hmProgramDeclared</th>\n",
       "      <th>state</th>\n",
       "      <th>declarationDate</th>\n",
       "      <th>fyDeclared</th>\n",
       "      <th>disasterType</th>\n",
       "      <th>incidentType</th>\n",
       "      <th>title</th>\n",
       "      <th>incidentBeginDate</th>\n",
       "      <th>incidentEndDate</th>\n",
       "      <th>disasterCloseOutDate</th>\n",
       "      <th>declaredCountyArea</th>\n",
       "      <th>placeCode</th>\n",
       "      <th>hash</th>\n",
       "      <th>lastRefresh</th>\n",
       "      <th>id</th>\n",
       "    </tr>\n",
       "  </thead>\n",
       "  <tbody>\n",
       "    <tr>\n",
       "      <th>0</th>\n",
       "      <td>1</td>\n",
       "      <td>0</td>\n",
       "      <td>1</td>\n",
       "      <td>1</td>\n",
       "      <td>1</td>\n",
       "      <td>GA</td>\n",
       "      <td>1953-05-02T00:00:00.000Z</td>\n",
       "      <td>1953</td>\n",
       "      <td>DR</td>\n",
       "      <td>Tornado</td>\n",
       "      <td>TORNADO</td>\n",
       "      <td>1953-05-02T00:00:00.000Z</td>\n",
       "      <td>1953-05-02T00:00:00.000Z</td>\n",
       "      <td>1954-06-01T00:00:00.000Z</td>\n",
       "      <td>NaN</td>\n",
       "      <td>NaN</td>\n",
       "      <td>1dcb40d0664d22d39de787b706b0fa69</td>\n",
       "      <td>2019-07-26T18:08:57.368Z</td>\n",
       "      <td>5d1bbd8c8bdcfa6efb32fd8d</td>\n",
       "    </tr>\n",
       "    <tr>\n",
       "      <th>1</th>\n",
       "      <td>2</td>\n",
       "      <td>0</td>\n",
       "      <td>1</td>\n",
       "      <td>1</td>\n",
       "      <td>1</td>\n",
       "      <td>TX</td>\n",
       "      <td>1953-05-15T00:00:00.000Z</td>\n",
       "      <td>1953</td>\n",
       "      <td>DR</td>\n",
       "      <td>Tornado</td>\n",
       "      <td>TORNADO &amp; HEAVY RAINFALL</td>\n",
       "      <td>1953-05-15T00:00:00.000Z</td>\n",
       "      <td>1953-05-15T00:00:00.000Z</td>\n",
       "      <td>1958-01-01T00:00:00.000Z</td>\n",
       "      <td>NaN</td>\n",
       "      <td>NaN</td>\n",
       "      <td>61612cea5779e361b429799098974b6a</td>\n",
       "      <td>2019-07-26T18:08:57.370Z</td>\n",
       "      <td>5d1bbd8c8bdcfa6efb32fd8e</td>\n",
       "    </tr>\n",
       "  </tbody>\n",
       "</table>\n",
       "</div>"
      ],
      "text/plain": [
       "   disasterNumber  ihProgramDeclared  iaProgramDeclared  paProgramDeclared  \\\n",
       "0               1                  0                  1                  1   \n",
       "1               2                  0                  1                  1   \n",
       "\n",
       "   hmProgramDeclared state           declarationDate  fyDeclared disasterType  \\\n",
       "0                  1    GA  1953-05-02T00:00:00.000Z        1953           DR   \n",
       "1                  1    TX  1953-05-15T00:00:00.000Z        1953           DR   \n",
       "\n",
       "  incidentType                     title         incidentBeginDate  \\\n",
       "0      Tornado                   TORNADO  1953-05-02T00:00:00.000Z   \n",
       "1      Tornado  TORNADO & HEAVY RAINFALL  1953-05-15T00:00:00.000Z   \n",
       "\n",
       "            incidentEndDate      disasterCloseOutDate declaredCountyArea  \\\n",
       "0  1953-05-02T00:00:00.000Z  1954-06-01T00:00:00.000Z                NaN   \n",
       "1  1953-05-15T00:00:00.000Z  1958-01-01T00:00:00.000Z                NaN   \n",
       "\n",
       "   placeCode                              hash               lastRefresh  \\\n",
       "0        NaN  1dcb40d0664d22d39de787b706b0fa69  2019-07-26T18:08:57.368Z   \n",
       "1        NaN  61612cea5779e361b429799098974b6a  2019-07-26T18:08:57.370Z   \n",
       "\n",
       "                         id  \n",
       "0  5d1bbd8c8bdcfa6efb32fd8d  \n",
       "1  5d1bbd8c8bdcfa6efb32fd8e  "
      ]
     },
     "execution_count": 2,
     "metadata": {},
     "output_type": "execute_result"
    }
   ],
   "source": [
    "# summary of all states \n",
    "\n",
    "df = pd.read_csv(\"../Natural_Disaster_Data/DisasterDeclarationsSummaries.csv\")\n",
    "df.head(2)"
   ]
  },
  {
   "cell_type": "code",
   "execution_count": 3,
   "metadata": {},
   "outputs": [],
   "source": [
    "# transform it to date time\n",
    "df['incidentBeginDate'] = pd.to_datetime(df['incidentBeginDate'])"
   ]
  },
  {
   "cell_type": "code",
   "execution_count": 4,
   "metadata": {},
   "outputs": [],
   "source": [
    "df['beginMonth'] = df['incidentBeginDate'].dt.month\n",
    "df['beginYear'] = df['incidentBeginDate'].dt.year\n",
    "df['beginDay'] = df['incidentBeginDate'].dt.day"
   ]
  },
  {
   "cell_type": "code",
   "execution_count": 5,
   "metadata": {},
   "outputs": [
    {
     "data": {
      "text/plain": [
       "Severe Storm(s)     16802\n",
       "Hurricane           10866\n",
       "Flood               10374\n",
       "Biological           7631\n",
       "Snow                 3659\n",
       "Fire                 3066\n",
       "Severe Ice Storm     1990\n",
       "Tornado              1451\n",
       "Drought              1292\n",
       "Coastal Storm         507\n",
       "Freezing              301\n",
       "Other                 297\n",
       "Earthquake            224\n",
       "Typhoon               143\n",
       "Volcano                51\n",
       "Fishing Losses         42\n",
       "Mud/Landslide          31\n",
       "Chemical                9\n",
       "Tsunami                 9\n",
       "Toxic Substances        9\n",
       "Dam/Levee Break         6\n",
       "Human Cause             6\n",
       "Terrorist               5\n",
       "Name: incidentType, dtype: int64"
      ]
     },
     "execution_count": 5,
     "metadata": {},
     "output_type": "execute_result"
    }
   ],
   "source": [
    "#Incident types since 1953\n",
    "df['incidentType'].value_counts()"
   ]
  },
  {
   "cell_type": "markdown",
   "metadata": {},
   "source": [
    "# Historic Data from 2010 to 2020"
   ]
  },
  {
   "cell_type": "code",
   "execution_count": 6,
   "metadata": {},
   "outputs": [],
   "source": [
    "#filter disasters from 2010  to 2020\n",
    "disasters = df[(df['beginYear'] >= 2010) & (df['incidentType'] != 'Biological')][['incidentType', 'state', 'beginYear', 'beginMonth', 'beginDay']]\n",
    "disasters.dropna(inplace = True)"
   ]
  },
  {
   "cell_type": "code",
   "execution_count": 7,
   "metadata": {
    "scrolled": true
   },
   "outputs": [
    {
     "data": {
      "text/plain": [
       "incidentType    0\n",
       "state           0\n",
       "beginYear       0\n",
       "beginMonth      0\n",
       "beginDay        0\n",
       "dtype: int64"
      ]
     },
     "execution_count": 7,
     "metadata": {},
     "output_type": "execute_result"
    }
   ],
   "source": [
    "#check null values\n",
    "disasters.isnull().sum()"
   ]
  },
  {
   "cell_type": "code",
   "execution_count": 8,
   "metadata": {},
   "outputs": [],
   "source": [
    "#drop incident types that don't require evacuation\n",
    "drop = ['Severe Storm(s)', 'Snow', 'Tornado', 'Severe Ice Storm', 'Terrorist', 'Coastal Storm', 'Mud/Landslide', 'Typhoon', 'Chemical', 'Other', 'Dam/Levee Break', 'Toxic Substances', 'Freezing']\n",
    "\n",
    "for columns in drop:\n",
    "    disasters = disasters.loc[disasters['incidentType'] != columns]\n",
    "    "
   ]
  },
  {
   "cell_type": "code",
   "execution_count": 9,
   "metadata": {
    "scrolled": true
   },
   "outputs": [
    {
     "data": {
      "text/plain": [
       "Hurricane     3804\n",
       "Flood         2668\n",
       "Fire           846\n",
       "Earthquake     133\n",
       "Tsunami          9\n",
       "Volcano          2\n",
       "Name: incidentType, dtype: int64"
      ]
     },
     "execution_count": 9,
     "metadata": {},
     "output_type": "execute_result"
    }
   ],
   "source": [
    "#natural disasters that require evacuation by order\n",
    "disasters['incidentType'].value_counts()"
   ]
  },
  {
   "cell_type": "code",
   "execution_count": 10,
   "metadata": {
    "scrolled": true
   },
   "outputs": [
    {
     "data": {
      "text/html": [
       "<div>\n",
       "<style scoped>\n",
       "    .dataframe tbody tr th:only-of-type {\n",
       "        vertical-align: middle;\n",
       "    }\n",
       "\n",
       "    .dataframe tbody tr th {\n",
       "        vertical-align: top;\n",
       "    }\n",
       "\n",
       "    .dataframe thead th {\n",
       "        text-align: right;\n",
       "    }\n",
       "</style>\n",
       "<table border=\"1\" class=\"dataframe\">\n",
       "  <thead>\n",
       "    <tr style=\"text-align: right;\">\n",
       "      <th></th>\n",
       "      <th>incidentType</th>\n",
       "      <th>state</th>\n",
       "      <th>beginYear</th>\n",
       "      <th>beginMonth</th>\n",
       "      <th>beginDay</th>\n",
       "    </tr>\n",
       "  </thead>\n",
       "  <tbody>\n",
       "    <tr>\n",
       "      <th>40286</th>\n",
       "      <td>Earthquake</td>\n",
       "      <td>AK</td>\n",
       "      <td>2018</td>\n",
       "      <td>11</td>\n",
       "      <td>30</td>\n",
       "    </tr>\n",
       "    <tr>\n",
       "      <th>44009</th>\n",
       "      <td>Earthquake</td>\n",
       "      <td>AK</td>\n",
       "      <td>2018</td>\n",
       "      <td>11</td>\n",
       "      <td>30</td>\n",
       "    </tr>\n",
       "    <tr>\n",
       "      <th>45530</th>\n",
       "      <td>Earthquake</td>\n",
       "      <td>AK</td>\n",
       "      <td>2018</td>\n",
       "      <td>11</td>\n",
       "      <td>30</td>\n",
       "    </tr>\n",
       "    <tr>\n",
       "      <th>47612</th>\n",
       "      <td>Earthquake</td>\n",
       "      <td>AK</td>\n",
       "      <td>2018</td>\n",
       "      <td>11</td>\n",
       "      <td>30</td>\n",
       "    </tr>\n",
       "    <tr>\n",
       "      <th>48045</th>\n",
       "      <td>Earthquake</td>\n",
       "      <td>AK</td>\n",
       "      <td>2018</td>\n",
       "      <td>11</td>\n",
       "      <td>30</td>\n",
       "    </tr>\n",
       "    <tr>\n",
       "      <th>...</th>\n",
       "      <td>...</td>\n",
       "      <td>...</td>\n",
       "      <td>...</td>\n",
       "      <td>...</td>\n",
       "      <td>...</td>\n",
       "    </tr>\n",
       "    <tr>\n",
       "      <th>32568</th>\n",
       "      <td>Tsunami</td>\n",
       "      <td>HI</td>\n",
       "      <td>2011</td>\n",
       "      <td>3</td>\n",
       "      <td>11</td>\n",
       "    </tr>\n",
       "    <tr>\n",
       "      <th>34673</th>\n",
       "      <td>Tsunami</td>\n",
       "      <td>HI</td>\n",
       "      <td>2011</td>\n",
       "      <td>3</td>\n",
       "      <td>11</td>\n",
       "    </tr>\n",
       "    <tr>\n",
       "      <th>26606</th>\n",
       "      <td>Tsunami</td>\n",
       "      <td>OR</td>\n",
       "      <td>2011</td>\n",
       "      <td>3</td>\n",
       "      <td>11</td>\n",
       "    </tr>\n",
       "    <tr>\n",
       "      <th>35437</th>\n",
       "      <td>Tsunami</td>\n",
       "      <td>OR</td>\n",
       "      <td>2011</td>\n",
       "      <td>3</td>\n",
       "      <td>11</td>\n",
       "    </tr>\n",
       "    <tr>\n",
       "      <th>36287</th>\n",
       "      <td>Tsunami</td>\n",
       "      <td>OR</td>\n",
       "      <td>2011</td>\n",
       "      <td>3</td>\n",
       "      <td>11</td>\n",
       "    </tr>\n",
       "  </tbody>\n",
       "</table>\n",
       "<p>7192 rows × 5 columns</p>\n",
       "</div>"
      ],
      "text/plain": [
       "      incidentType state  beginYear  beginMonth  beginDay\n",
       "40286   Earthquake    AK       2018          11        30\n",
       "44009   Earthquake    AK       2018          11        30\n",
       "45530   Earthquake    AK       2018          11        30\n",
       "47612   Earthquake    AK       2018          11        30\n",
       "48045   Earthquake    AK       2018          11        30\n",
       "...            ...   ...        ...         ...       ...\n",
       "32568      Tsunami    HI       2011           3        11\n",
       "34673      Tsunami    HI       2011           3        11\n",
       "26606      Tsunami    OR       2011           3        11\n",
       "35437      Tsunami    OR       2011           3        11\n",
       "36287      Tsunami    OR       2011           3        11\n",
       "\n",
       "[7192 rows x 5 columns]"
      ]
     },
     "execution_count": 10,
     "metadata": {},
     "output_type": "execute_result"
    }
   ],
   "source": [
    "#remove same incident in different counties but same state\n",
    "disasters[disasters.duplicated(keep = False)].sort_values(by = ['incidentType', 'state', 'beginYear', 'beginMonth', 'beginDay'] )"
   ]
  },
  {
   "cell_type": "code",
   "execution_count": 11,
   "metadata": {},
   "outputs": [
    {
     "data": {
      "text/plain": [
       "6839"
      ]
     },
     "execution_count": 11,
     "metadata": {},
     "output_type": "execute_result"
    }
   ],
   "source": [
    "disasters.duplicated().sum()"
   ]
  },
  {
   "cell_type": "code",
   "execution_count": 12,
   "metadata": {},
   "outputs": [],
   "source": [
    "disasters = disasters.drop_duplicates()"
   ]
  },
  {
   "cell_type": "code",
   "execution_count": 13,
   "metadata": {},
   "outputs": [
    {
     "data": {
      "text/plain": [
       "(623, 5)"
      ]
     },
     "execution_count": 13,
     "metadata": {},
     "output_type": "execute_result"
    }
   ],
   "source": [
    "disasters.shape"
   ]
  },
  {
   "cell_type": "markdown",
   "metadata": {},
   "source": [
    "**Yearly**"
   ]
  },
  {
   "cell_type": "code",
   "execution_count": 14,
   "metadata": {},
   "outputs": [
    {
     "data": {
      "text/html": [
       "<div>\n",
       "<style scoped>\n",
       "    .dataframe tbody tr th:only-of-type {\n",
       "        vertical-align: middle;\n",
       "    }\n",
       "\n",
       "    .dataframe tbody tr th {\n",
       "        vertical-align: top;\n",
       "    }\n",
       "\n",
       "    .dataframe thead th {\n",
       "        text-align: right;\n",
       "    }\n",
       "</style>\n",
       "<table border=\"1\" class=\"dataframe\">\n",
       "  <thead>\n",
       "    <tr style=\"text-align: right;\">\n",
       "      <th></th>\n",
       "      <th>state</th>\n",
       "      <th>incidentType</th>\n",
       "      <th>ten year count</th>\n",
       "      <th>averageperyear</th>\n",
       "    </tr>\n",
       "  </thead>\n",
       "  <tbody>\n",
       "    <tr>\n",
       "      <th>1</th>\n",
       "      <td>AK</td>\n",
       "      <td>Fire</td>\n",
       "      <td>4</td>\n",
       "      <td>0.4</td>\n",
       "    </tr>\n",
       "    <tr>\n",
       "      <th>2</th>\n",
       "      <td>AK</td>\n",
       "      <td>Flood</td>\n",
       "      <td>4</td>\n",
       "      <td>0.4</td>\n",
       "    </tr>\n",
       "    <tr>\n",
       "      <th>0</th>\n",
       "      <td>AK</td>\n",
       "      <td>Earthquake</td>\n",
       "      <td>1</td>\n",
       "      <td>0.1</td>\n",
       "    </tr>\n",
       "    <tr>\n",
       "      <th>3</th>\n",
       "      <td>AL</td>\n",
       "      <td>Hurricane</td>\n",
       "      <td>4</td>\n",
       "      <td>0.4</td>\n",
       "    </tr>\n",
       "    <tr>\n",
       "      <th>4</th>\n",
       "      <td>AR</td>\n",
       "      <td>Flood</td>\n",
       "      <td>2</td>\n",
       "      <td>0.2</td>\n",
       "    </tr>\n",
       "  </tbody>\n",
       "</table>\n",
       "</div>"
      ],
      "text/plain": [
       "  state incidentType  ten year count  averageperyear\n",
       "1    AK         Fire               4             0.4\n",
       "2    AK        Flood               4             0.4\n",
       "0    AK   Earthquake               1             0.1\n",
       "3    AL    Hurricane               4             0.4\n",
       "4    AR        Flood               2             0.2"
      ]
     },
     "execution_count": 14,
     "metadata": {},
     "output_type": "execute_result"
    }
   ],
   "source": [
    "#incident per year in 10 year range 2010-2020\n",
    "disaster = pd.DataFrame({'ten year count' : disasters.groupby( ['state', \"incidentType\"] ).size()}).reset_index()\n",
    "disaster['averageperyear'] = disaster['ten year count'] / 10\n",
    "disaster.sort_values(['state', 'ten year count'], ascending = [ True, False], inplace =True)\n",
    "disaster.head()"
   ]
  },
  {
   "cell_type": "code",
   "execution_count": 15,
   "metadata": {},
   "outputs": [
    {
     "data": {
      "text/plain": [
       "state\n",
       "CA    8.6\n",
       "TX    5.1\n",
       "WA    4.4\n",
       "OK    3.6\n",
       "OR    3.2\n",
       "NM    2.5\n",
       "MT    2.0\n",
       "AZ    2.0\n",
       "CO    2.0\n",
       "UT    1.9\n",
       "NV    1.8\n",
       "ID    1.7\n",
       "WY    1.1\n",
       "LA    1.1\n",
       "NC    1.1\n",
       "FL    1.0\n",
       "GA    1.0\n",
       "ND    0.9\n",
       "AK    0.9\n",
       "SD    0.9\n",
       "HI    0.8\n",
       "VA    0.8\n",
       "NY    0.7\n",
       "NE    0.7\n",
       "WV    0.7\n",
       "IA    0.7\n",
       "MN    0.7\n",
       "VT    0.6\n",
       "TN    0.6\n",
       "KY    0.6\n",
       "SC    0.6\n",
       "MD    0.6\n",
       "WI    0.5\n",
       "KS    0.5\n",
       "MS    0.5\n",
       "PR    0.5\n",
       "MO    0.5\n",
       "AL    0.4\n",
       "NH    0.4\n",
       "VI    0.4\n",
       "DC    0.4\n",
       "PA    0.4\n",
       "MA    0.4\n",
       "OH    0.3\n",
       "RI    0.3\n",
       "MI    0.3\n",
       "CT    0.3\n",
       "NJ    0.3\n",
       "DE    0.3\n",
       "IL    0.2\n",
       "AR    0.2\n",
       "ME    0.1\n",
       "IN    0.1\n",
       "AS    0.1\n",
       "Name: averageperyear, dtype: float64"
      ]
     },
     "execution_count": 15,
     "metadata": {},
     "output_type": "execute_result"
    }
   ],
   "source": [
    "#counts of frequency of natural disasters average per year from 2010-2020 data\n",
    "disaster.groupby(['state'])['averageperyear'].sum().sort_values(ascending=False)"
   ]
  },
  {
   "cell_type": "code",
   "execution_count": 16,
   "metadata": {
    "scrolled": true
   },
   "outputs": [
    {
     "data": {
      "image/png": "[encoded data removed]",
      "text/plain": [
       "<Figure size 576x864 with 1 Axes>"
      ]
     },
     "metadata": {
      "needs_background": "light"
     },
     "output_type": "display_data"
    }
   ],
   "source": [
    "# Visualize states and frequency of disasters by year\n",
    "plt.figure(figsize=(8,12))\n",
    "disaster.groupby(['state'])['averageperyear'].sum().sort_values().plot.barh(color=(0.1, 0.1, 0.1, 0.1),  edgecolor='black');\n",
    "plt.title('Average of Natural disasters per Year by State')\n",
    "plt.xlabel('Natural Disaster Average per Year')\n",
    "plt.ylabel('State');\n",
    "\n",
    "\n",
    "\n",
    " \n"
   ]
  },
  {
   "cell_type": "markdown",
   "metadata": {},
   "source": [
    "**Monthly**"
   ]
  },
  {
   "cell_type": "code",
   "execution_count": 17,
   "metadata": {
    "scrolled": false
   },
   "outputs": [
    {
     "data": {
      "text/html": [
       "<div>\n",
       "<style scoped>\n",
       "    .dataframe tbody tr th:only-of-type {\n",
       "        vertical-align: middle;\n",
       "    }\n",
       "\n",
       "    .dataframe tbody tr th {\n",
       "        vertical-align: top;\n",
       "    }\n",
       "\n",
       "    .dataframe thead th {\n",
       "        text-align: right;\n",
       "    }\n",
       "</style>\n",
       "<table border=\"1\" class=\"dataframe\">\n",
       "  <thead>\n",
       "    <tr style=\"text-align: right;\">\n",
       "      <th></th>\n",
       "      <th>state</th>\n",
       "      <th>beginMonth</th>\n",
       "      <th>incidentType</th>\n",
       "      <th>countintenyears</th>\n",
       "      <th>yearlyratebyspecificmonth</th>\n",
       "    </tr>\n",
       "  </thead>\n",
       "  <tbody>\n",
       "    <tr>\n",
       "      <th>1</th>\n",
       "      <td>AK</td>\n",
       "      <td>5</td>\n",
       "      <td>Flood</td>\n",
       "      <td>3</td>\n",
       "      <td>0.3</td>\n",
       "    </tr>\n",
       "    <tr>\n",
       "      <th>0</th>\n",
       "      <td>AK</td>\n",
       "      <td>5</td>\n",
       "      <td>Fire</td>\n",
       "      <td>1</td>\n",
       "      <td>0.1</td>\n",
       "    </tr>\n",
       "    <tr>\n",
       "      <th>2</th>\n",
       "      <td>AK</td>\n",
       "      <td>6</td>\n",
       "      <td>Fire</td>\n",
       "      <td>2</td>\n",
       "      <td>0.2</td>\n",
       "    </tr>\n",
       "    <tr>\n",
       "      <th>3</th>\n",
       "      <td>AK</td>\n",
       "      <td>8</td>\n",
       "      <td>Fire</td>\n",
       "      <td>1</td>\n",
       "      <td>0.1</td>\n",
       "    </tr>\n",
       "    <tr>\n",
       "      <th>4</th>\n",
       "      <td>AK</td>\n",
       "      <td>10</td>\n",
       "      <td>Flood</td>\n",
       "      <td>1</td>\n",
       "      <td>0.1</td>\n",
       "    </tr>\n",
       "  </tbody>\n",
       "</table>\n",
       "</div>"
      ],
      "text/plain": [
       "  state  beginMonth incidentType  countintenyears  yearlyratebyspecificmonth\n",
       "1    AK           5        Flood                3                        0.3\n",
       "0    AK           5         Fire                1                        0.1\n",
       "2    AK           6         Fire                2                        0.2\n",
       "3    AK           8         Fire                1                        0.1\n",
       "4    AK          10        Flood                1                        0.1"
      ]
     },
     "execution_count": 17,
     "metadata": {},
     "output_type": "execute_result"
    }
   ],
   "source": [
    "#incident per specific month from 2010 - 2020\n",
    "\n",
    "disaster1 = pd.DataFrame({'countintenyears' : disasters.groupby( ['state', 'beginMonth', \"incidentType\"] ).size()}).reset_index()\n",
    "disaster1.sort_values(['state', 'beginMonth', 'countintenyears'], ascending = [ True, True, False], inplace =True)\n",
    "disaster1['yearlyratebyspecificmonth'] = disaster1['countintenyears'] / 10\n",
    "disaster1.head()"
   ]
  },
  {
   "cell_type": "code",
   "execution_count": 18,
   "metadata": {
    "scrolled": true
   },
   "outputs": [
    {
     "data": {
      "text/plain": [
       "beginMonth\n",
       "8     13.0\n",
       "6      8.8\n",
       "7      8.0\n",
       "9      7.6\n",
       "4      5.4\n",
       "10     5.1\n",
       "5      4.6\n",
       "3      4.1\n",
       "2      1.9\n",
       "11     1.7\n",
       "12     1.3\n",
       "1      0.8\n",
       "Name: yearlyratebyspecificmonth, dtype: float64"
      ]
     },
     "execution_count": 18,
     "metadata": {},
     "output_type": "execute_result"
    }
   ],
   "source": [
    "#months in which disasters occur the most?\n",
    "disaster1.groupby(['beginMonth'])['yearlyratebyspecificmonth'].sum().sort_values(ascending=False)\n"
   ]
  },
  {
   "cell_type": "code",
   "execution_count": 19,
   "metadata": {
    "scrolled": false
   },
   "outputs": [
    {
     "data": {
      "image/png": "[encoded data removed]",
      "text/plain": [
       "<Figure size 576x864 with 1 Axes>"
      ]
     },
     "metadata": {
      "needs_background": "light"
     },
     "output_type": "display_data"
    }
   ],
   "source": [
    "# Visualize states and disasters per month\n",
    "plt.figure(figsize=(8,12))\n",
    "disaster1.groupby(['beginMonth'])['yearlyratebyspecificmonth'].sum().sort_values(ascending=True).plot.barh(color=(0.1, 0.1, 0.1, 0.1),  edgecolor='black');\n",
    "\n",
    "plt.title('Average of Natural disasters per Month USA')\n",
    "plt.xlabel('Natural Disaster Average per Month')\n",
    "plt.ylabel('Month');"
   ]
  },
  {
   "cell_type": "markdown",
   "metadata": {},
   "source": [
    "# May - August Analysis"
   ]
  },
  {
   "cell_type": "code",
   "execution_count": 20,
   "metadata": {},
   "outputs": [
    {
     "data": {
      "text/html": [
       "<div>\n",
       "<style scoped>\n",
       "    .dataframe tbody tr th:only-of-type {\n",
       "        vertical-align: middle;\n",
       "    }\n",
       "\n",
       "    .dataframe tbody tr th {\n",
       "        vertical-align: top;\n",
       "    }\n",
       "\n",
       "    .dataframe thead th {\n",
       "        text-align: right;\n",
       "    }\n",
       "</style>\n",
       "<table border=\"1\" class=\"dataframe\">\n",
       "  <thead>\n",
       "    <tr style=\"text-align: right;\">\n",
       "      <th></th>\n",
       "      <th>incidentType</th>\n",
       "      <th>state</th>\n",
       "      <th>beginMonth</th>\n",
       "      <th>total</th>\n",
       "      <th>yearlyrate</th>\n",
       "    </tr>\n",
       "  </thead>\n",
       "  <tbody>\n",
       "    <tr>\n",
       "      <th>13</th>\n",
       "      <td>Fire</td>\n",
       "      <td>CA</td>\n",
       "      <td>7</td>\n",
       "      <td>19</td>\n",
       "      <td>1.9</td>\n",
       "    </tr>\n",
       "    <tr>\n",
       "      <th>14</th>\n",
       "      <td>Fire</td>\n",
       "      <td>CA</td>\n",
       "      <td>8</td>\n",
       "      <td>18</td>\n",
       "      <td>1.8</td>\n",
       "    </tr>\n",
       "    <tr>\n",
       "      <th>53</th>\n",
       "      <td>Fire</td>\n",
       "      <td>WA</td>\n",
       "      <td>8</td>\n",
       "      <td>17</td>\n",
       "      <td>1.7</td>\n",
       "    </tr>\n",
       "    <tr>\n",
       "      <th>40</th>\n",
       "      <td>Fire</td>\n",
       "      <td>OR</td>\n",
       "      <td>8</td>\n",
       "      <td>12</td>\n",
       "      <td>1.2</td>\n",
       "    </tr>\n",
       "    <tr>\n",
       "      <th>52</th>\n",
       "      <td>Fire</td>\n",
       "      <td>WA</td>\n",
       "      <td>7</td>\n",
       "      <td>12</td>\n",
       "      <td>1.2</td>\n",
       "    </tr>\n",
       "  </tbody>\n",
       "</table>\n",
       "</div>"
      ],
      "text/plain": [
       "   incidentType state  beginMonth  total  yearlyrate\n",
       "13         Fire    CA           7     19         1.9\n",
       "14         Fire    CA           8     18         1.8\n",
       "53         Fire    WA           8     17         1.7\n",
       "40         Fire    OR           8     12         1.2\n",
       "52         Fire    WA           7     12         1.2"
      ]
     },
     "execution_count": 20,
     "metadata": {},
     "output_type": "execute_result"
    }
   ],
   "source": [
    "#incident average per month: May - August per incident and state in a range of 10 years\n",
    "#total: incident in 10 years\n",
    "final = disasters[disasters['beginMonth'].isin([5,6,7,8])].groupby(['incidentType', 'state', 'beginMonth']).size().reset_index().sort_values(by = 0, ascending = False)\n",
    "final.rename(columns = {0: 'total'}, inplace = True )\n",
    "final['yearlyrate'] = final['total'] / 10\n",
    "final.head()\n"
   ]
  },
  {
   "cell_type": "code",
   "execution_count": 21,
   "metadata": {},
   "outputs": [
    {
     "data": {
      "text/plain": [
       "state\n",
       "CA    4.8\n",
       "WA    3.3\n",
       "TX    2.5\n",
       "OR    2.4\n",
       "NM    1.9\n",
       "AZ    1.8\n",
       "OK    1.7\n",
       "MT    1.3\n",
       "UT    1.2\n",
       "CO    1.1\n",
       "ID    1.1\n",
       "NV    1.1\n",
       "WY    0.8\n",
       "AK    0.7\n",
       "LA    0.7\n",
       "NY    0.5\n",
       "SD    0.5\n",
       "NC    0.4\n",
       "VT    0.4\n",
       "GA    0.4\n",
       "WV    0.4\n",
       "MD    0.4\n",
       "IA    0.3\n",
       "WI    0.3\n",
       "HI    0.3\n",
       "NE    0.3\n",
       "FL    0.3\n",
       "VA    0.2\n",
       "AR    0.2\n",
       "RI    0.2\n",
       "VI    0.2\n",
       "CT    0.2\n",
       "DC    0.2\n",
       "DE    0.2\n",
       "ND    0.2\n",
       "NJ    0.2\n",
       "MA    0.2\n",
       "MI    0.2\n",
       "MN    0.2\n",
       "MS    0.2\n",
       "NH    0.2\n",
       "KS    0.1\n",
       "SC    0.1\n",
       "PR    0.1\n",
       "ME    0.1\n",
       "MO    0.1\n",
       "AL    0.1\n",
       "PA    0.1\n",
       "Name: yearlyrate, dtype: float64"
      ]
     },
     "execution_count": 21,
     "metadata": {},
     "output_type": "execute_result"
    }
   ],
   "source": [
    "#Highest incident types from May- August per state\n",
    "final.groupby(['state'])['yearlyrate'].sum().sort_values(ascending=False)"
   ]
  },
  {
   "cell_type": "code",
   "execution_count": 22,
   "metadata": {
    "scrolled": false
   },
   "outputs": [
    {
     "data": {
      "image/png": "[encoded data removed]",
      "text/plain": [
       "<Figure size 576x864 with 1 Axes>"
      ]
     },
     "metadata": {
      "needs_background": "light"
     },
     "output_type": "display_data"
    }
   ],
   "source": [
    "#visualization\n",
    "plt.figure(figsize=(8,12))\n",
    "final.groupby(['state'])['yearlyrate'].sum().sort_values(ascending=True).plot.barh(color=(0.1, 0.1, 0.1, 0.1),  edgecolor='black');\n",
    "\n",
    "plt.title('Natural disasters in May - August per Year by State')\n",
    "plt.xlabel('Natural Disaster May -August per Year')\n",
    "plt.ylabel('State');\n",
    " "
   ]
  },
  {
   "cell_type": "code",
   "execution_count": 23,
   "metadata": {
    "scrolled": false
   },
   "outputs": [
    {
     "data": {
      "text/plain": [
       "incidentType\n",
       "Fire          24.1\n",
       "Flood          5.8\n",
       "Hurricane      4.0\n",
       "Earthquake     0.4\n",
       "Volcano        0.1\n",
       "Name: yearlyrate, dtype: float64"
      ]
     },
     "execution_count": 23,
     "metadata": {},
     "output_type": "execute_result"
    }
   ],
   "source": [
    "#Incident types which occur through May - August\n",
    "final.groupby(['incidentType'])['yearlyrate'].sum().sort_values(ascending=False)"
   ]
  },
  {
   "cell_type": "code",
   "execution_count": 24,
   "metadata": {
    "scrolled": true
   },
   "outputs": [
    {
     "data": {
      "image/png": "[encoded data removed]",
      "text/plain": [
       "<Figure size 576x864 with 1 Axes>"
      ]
     },
     "metadata": {
      "needs_background": "light"
     },
     "output_type": "display_data"
    }
   ],
   "source": [
    "plt.figure(figsize=(8,12))\n",
    "final.groupby(['incidentType'])['yearlyrate'].sum().sort_values(ascending=False).plot.bar(color=(0.1, 0.1, 0.1, 0.1),  edgecolor='black');\n",
    "\n",
    "plt.title('Natural disasters in May - August per Year by Incident Type (USA)')\n",
    "plt.xlabel('Natural Disaster May -August per Year')\n",
    "plt.ylabel('Incident Type');\n",
    " "
   ]
  },
  {
   "cell_type": "code",
   "execution_count": 25,
   "metadata": {},
   "outputs": [],
   "source": [
    "# Export dataframe to csv file\n",
    "final.to_csv('./Natural_Disaster_proj_USA_511.csv', index=False)"
   ]
  }
 ],
 "metadata": {
  "kernelspec": {
   "display_name": "Python 3",
   "language": "python",
   "name": "python3"
  },
  "language_info": {
   "codemirror_mode": {
    "name": "ipython",
    "version": 3
   },
   "file_extension": ".py",
   "mimetype": "text/x-python",
   "name": "python",
   "nbconvert_exporter": "python",
   "pygments_lexer": "ipython3",
   "version": "3.7.6"
  }
 },
 "nbformat": 4,
 "nbformat_minor": 4
}
